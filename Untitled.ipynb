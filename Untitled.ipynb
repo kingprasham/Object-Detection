{
 "cells": [
  {
   "cell_type": "code",
   "execution_count": 4,
   "id": "63665c74",
   "metadata": {},
   "outputs": [
    {
     "ename": "ModuleNotFoundError",
     "evalue": "No module named 'ultralytics'",
     "output_type": "error",
     "traceback": [
      "\u001b[31m---------------------------------------------------------------------------\u001b[39m",
      "\u001b[31mModuleNotFoundError\u001b[39m                       Traceback (most recent call last)",
      "\u001b[36mCell\u001b[39m\u001b[36m \u001b[39m\u001b[32mIn[4]\u001b[39m\u001b[32m, line 5\u001b[39m\n\u001b[32m      2\u001b[39m \u001b[38;5;28;01mimport\u001b[39;00m\u001b[38;5;250m \u001b[39m\u001b[34;01mrandom\u001b[39;00m\n\u001b[32m      4\u001b[39m \u001b[38;5;28;01mimport\u001b[39;00m\u001b[38;5;250m \u001b[39m\u001b[34;01mcv2\u001b[39;00m\n\u001b[32m----> \u001b[39m\u001b[32m5\u001b[39m \u001b[38;5;28;01mfrom\u001b[39;00m\u001b[38;5;250m \u001b[39m\u001b[34;01multralytics\u001b[39;00m\u001b[38;5;250m \u001b[39m\u001b[38;5;28;01mimport\u001b[39;00m YOLO\n\u001b[32m      7\u001b[39m \u001b[38;5;28;01mfrom\u001b[39;00m\u001b[38;5;250m \u001b[39m\u001b[34;01mtracker\u001b[39;00m\u001b[38;5;250m \u001b[39m\u001b[38;5;28;01mimport\u001b[39;00m Tracker\n\u001b[32m     10\u001b[39m video_path = os.path.join(\u001b[33m'\u001b[39m\u001b[33m.\u001b[39m\u001b[33m'\u001b[39m, \u001b[33m'\u001b[39m\u001b[33mdata\u001b[39m\u001b[33m'\u001b[39m, \u001b[33m'\u001b[39m\u001b[33mpeople.mp4\u001b[39m\u001b[33m'\u001b[39m)\n",
      "\u001b[31mModuleNotFoundError\u001b[39m: No module named 'ultralytics'"
     ]
    }
   ],
   "source": [
    "import os\n",
    "import random\n",
    "\n",
    "import cv2\n",
    "from ultralytics import YOLO\n",
    "\n",
    "from tracker import Tracker\n",
    "\n",
    "\n",
    "video_path = os.path.join('.', 'data', 'people.mp4')\n",
    "video_out_path = os.path.join('.', 'out.mp4')\n",
    "\n",
    "cap = cv2.VideoCapture(video_path)\n",
    "ret, frame = cap.read()\n",
    "\n",
    "cap_out = cv2.VideoWriter(video_out_path, cv2.VideoWriter_fourcc(*'MP4V'), cap.get(cv2.CAP_PROP_FPS),\n",
    "                          (frame.shape[1], frame.shape[0]))\n",
    "\n",
    "model = YOLO(\"yolov8n.pt\")\n",
    "\n",
    "tracker = Tracker()\n",
    "\n",
    "colors = [(random.randint(0, 255), random.randint(0, 255), random.randint(0, 255)) for j in range(10)]\n",
    "\n",
    "detection_threshold = 0.5\n",
    "while ret:\n",
    "\n",
    "    results = model(frame)\n",
    "\n",
    "    for result in results:\n",
    "        detections = []\n",
    "        for r in result.boxes.data.tolist():\n",
    "            x1, y1, x2, y2, score, class_id = r\n",
    "            x1 = int(x1)\n",
    "            x2 = int(x2)\n",
    "            y1 = int(y1)\n",
    "            y2 = int(y2)\n",
    "            class_id = int(class_id)\n",
    "            if score > detection_threshold:\n",
    "                detections.append([x1, y1, x2, y2, score])\n",
    "\n",
    "        tracker.update(frame, detections)\n",
    "\n",
    "        for track in tracker.tracks:\n",
    "            bbox = track.bbox\n",
    "            x1, y1, x2, y2 = bbox\n",
    "            track_id = track.track_id\n",
    "\n",
    "            cv2.rectangle(frame, (int(x1), int(y1)), (int(x2), int(y2)), (colors[track_id % len(colors)]), 3)\n",
    "\n",
    "    cap_out.write(frame)\n",
    "    ret, frame = cap.read()\n",
    "\n",
    "cap.release()\n",
    "cap_out.release()\n",
    "cv2.destroyAllWindows()\n"
   ]
  },
  {
   "cell_type": "code",
   "execution_count": null,
   "id": "ce8f5b8b-d79a-426f-81db-ed7fc60b6b3d",
   "metadata": {},
   "outputs": [],
   "source": [
    "pip install ultralytics"
   ]
  }
 ],
 "metadata": {
  "kernelspec": {
   "display_name": "Python 3 (ipykernel)",
   "language": "python",
   "name": "python3"
  },
  "language_info": {
   "codemirror_mode": {
    "name": "ipython",
    "version": 3
   },
   "file_extension": ".py",
   "mimetype": "text/x-python",
   "name": "python",
   "nbconvert_exporter": "python",
   "pygments_lexer": "ipython3",
   "version": "3.11.9"
  }
 },
 "nbformat": 4,
 "nbformat_minor": 5
}
